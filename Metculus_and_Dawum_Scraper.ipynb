{
  "nbformat": 4,
  "nbformat_minor": 0,
  "metadata": {
    "colab": {
      "name": "Metculus and Dawum Scraper.ipynb",
      "provenance": [],
      "authorship_tag": "ABX9TyMFI0YmPg/7Q7ncxLVgNuf6",
      "include_colab_link": true
    },
    "kernelspec": {
      "name": "python3",
      "display_name": "Python 3"
    },
    "language_info": {
      "name": "python"
    }
  },
  "cells": [
    {
      "cell_type": "markdown",
      "metadata": {
        "id": "view-in-github",
        "colab_type": "text"
      },
      "source": [
        "<a href=\"https://colab.research.google.com/github/jan-felix/BA/blob/master/Metculus_and_Dawum_Scraper.ipynb\" target=\"_parent\"><img src=\"https://colab.research.google.com/assets/colab-badge.svg\" alt=\"Open In Colab\"/></a>"
      ]
    },
    {
      "cell_type": "code",
      "metadata": {
        "id": "2-CT-g0DR4Hm"
      },
      "source": [
        "!pip install --progress-bar off --quiet poetry\n",
        "!pip install --progress-bar off --quiet git+https://github.com/oughtinc/ergo.git"
      ],
      "execution_count": null,
      "outputs": []
    },
    {
      "cell_type": "code",
      "metadata": {
        "id": "R-56waqS-6oL"
      },
      "source": [
        "import pandas as pd\n",
        "import ergo\n",
        "import numpy as np\n",
        "import matplotlib.pyplot as plt\n",
        "from bs4 import BeautifulSoup\n",
        "import requests"
      ],
      "execution_count": null,
      "outputs": []
    },
    {
      "cell_type": "code",
      "metadata": {
        "id": "oYHLd_UWSDlV"
      },
      "source": [
        "metaculus = ergo.Metaculus()"
      ],
      "execution_count": null,
      "outputs": []
    },
    {
      "cell_type": "markdown",
      "metadata": {
        "id": "KRmrwrBy_qjL"
      },
      "source": [
        "# Get Predictions"
      ]
    },
    {
      "cell_type": "code",
      "metadata": {
        "id": "c0ZZ5K0YVH_J"
      },
      "source": [
        "my_pred = 0.5\n",
        "question_id = 6338\n",
        "question_name = \"CDU governs Germany after the 2021 elections\"\n",
        "#def metaculus_question_plot(question_id,question_name,my_pred):\n",
        "\n",
        "binary=\"yes\"\n",
        "\n",
        "#Retrieve and Format Data\n",
        "question = metaculus.get_question(question_id, name=question_name)\n",
        "title = question.data[\"title\"]\n",
        "n_predictions = question.data[\"number_of_predictions\"]\n",
        "data_hist = question.data[\"prediction_histogram\"]\n",
        "\n",
        "data_ts = pd.DataFrame(question.data[\"prediction_timeseries\"])\n",
        "data_ts.index = pd.to_datetime(data_ts[\"t\"],unit=\"s\")\n",
        "data_ts.index = pd.DatetimeIndex(data_ts.index.strftime('%Y-%m-%d'))\n",
        "data_ts.index.name = None\n",
        "data_ts = data_ts.drop(columns=\"t\")\n",
        "data_ts = data_ts.groupby(data_ts.index).last()\n",
        "\n",
        "hist_dist = pd.DataFrame(data_ts[\"distribution\"].tolist())\n",
        "hist_dist = hist_dist.drop(columns = \"num\")\n",
        "hist_dist.index = data_ts.index\n",
        "hist_dist = hist_dist.groupby(hist_dist.index).last()\n",
        "\n",
        "data_ts[\"Upper90\"] = 1.65*hist_dist[\"var\"]+data_ts[\"community_prediction\"]\n",
        "data_ts[\"Lower90\"] = -1.65*hist_dist[\"var\"]+data_ts[\"community_prediction\"]\n",
        "\n",
        "fig, axs = plt.subplots(2,1,figsize =(8,8),sharex=True)\n",
        "fig.suptitle(question_name)\n",
        "axs[0].plot(data_ts[\"community_prediction\"])\n",
        "axs[0].fill_between(data_ts[\"community_prediction\"].index, data_ts[\"Lower90\"], data_ts[\"Upper90\"], color='b', alpha=.1)\n",
        "axs[0].grid()\n",
        "axs[0].axhline(my_pred, linewidth=3, color='r')\n",
        "axs[1].plot(hist_dist[\"var\"])\n",
        "axs[1].grid()\n",
        "fig.autofmt_xdate()"
      ],
      "execution_count": null,
      "outputs": []
    },
    {
      "cell_type": "markdown",
      "metadata": {
        "id": "L_dAO9fh_kI6"
      },
      "source": [
        "# Get recent Dawum Data"
      ]
    },
    {
      "cell_type": "code",
      "metadata": {
        "id": "_upfXP9n_TqJ"
      },
      "source": [
        "table_dawum_verlauf = pd.read_html('https://dawum.de/Bundestag/#Umfrageverlauf')\n",
        "recent_polls = pd.DataFrame(table_dawum_verlauf[0]).set_index(0).dropna(axis=1)\n",
        "recent_polls.columns = [\"Current\",\"Change\"]\n",
        "recent_polls.index.name = None\n",
        "recent_polls"
      ],
      "execution_count": null,
      "outputs": []
    },
    {
      "cell_type": "code",
      "metadata": {
        "id": "8D5bH-5EA0Rz"
      },
      "source": [
        "meta_poll_data = pd.DataFrame(table_dawum_verlauf[1]).set_index(0)\n",
        "meta_poll_data.columns = [\"Value\"]\n",
        "meta_poll_data.index.name = None\n",
        "meta_poll_data"
      ],
      "execution_count": null,
      "outputs": []
    },
    {
      "cell_type": "markdown",
      "metadata": {
        "id": "QZOKLtBH_dDB"
      },
      "source": [
        "# Scrape Dawum Chronik"
      ]
    },
    {
      "cell_type": "code",
      "metadata": {
        "id": "n0OgNUf2GN3V"
      },
      "source": [
        "URL = 'https://dawum.de/Bundestag/#Vergleich_mit_Wahlergebnis'\n",
        "page = requests.get(URL)\n",
        "#Get Soup\n",
        "soup = BeautifulSoup(page.content, 'html.parser')\n",
        "chronik = soup.find(id=\"Chronik\")\n",
        "table = chronik.find(\"div\",attrs={\"class\": \"table\"})\n",
        "#Create Table\n",
        "df = pd.DataFrame()\n",
        "rows = table.findAll(\"a\")\n",
        "table_list = []\n",
        "for row in rows: \n",
        "  cols = row.findAll(\"div\")\n",
        "  row_list = []\n",
        "  for div in cols:\n",
        "    row_list.append(div.get_text())\n",
        "  table_list.append(row_list)\n",
        "\n",
        "#Format Data \n",
        "rawr_data = pd.DataFrame(table_list)\n",
        "dates = rawr_data[0].str[0:10]\n",
        "institute =rawr_data[0].str[10:]\n",
        "\n",
        "rawr_data.columns = [\"Institute\",\"Union\",\"Greens\",\"SPD\",\"AFD\",\"FDP\",\"Linke\",\"Sonstige\"]\n",
        "\n",
        "institute = institute.str.replace('\\xad', '') \n",
        "institute = [s.strip() for s in institute]\n",
        "rawr_data[\"Institute\"] = institute\n",
        "\n",
        "rawr_data.index = pd.DatetimeIndex(pd.to_datetime(dates))\n",
        "rawr_data.index.name = None\n",
        "\n",
        "cols = [\"Union\",\"Greens\",\"SPD\",\"AFD\",\"FDP\",\"Linke\",\"Sonstige\"]\n",
        "rawr_data[cols] = rawr_data[cols].apply(lambda x: x.str.replace(',', '.').astype(float), axis=1)"
      ],
      "execution_count": null,
      "outputs": []
    },
    {
      "cell_type": "code",
      "metadata": {
        "id": "H0j0TkVVHU6M"
      },
      "source": [
        "rawr_data[\"Union\"].plot()"
      ],
      "execution_count": null,
      "outputs": []
    }
  ]
}